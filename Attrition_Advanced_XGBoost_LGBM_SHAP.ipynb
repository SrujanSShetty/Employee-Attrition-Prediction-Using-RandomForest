{
 "cells": [
  {
   "cell_type": "markdown",
   "id": "174c694a",
   "metadata": {},
   "source": [
    "# 🔍 Advanced Employee Attrition Analysis\n",
    "This notebook builds upon the Random Forest model by adding:\n",
    "- SHAP for interpretability\n",
    "- Comparison with XGBoost and LightGBM\n",
    "- Discussion for dashboard deployment using Streamlit or Flask"
   ]
  },
  {
   "cell_type": "code",
   "execution_count": null,
   "id": "7ef7740f",
   "metadata": {},
   "outputs": [],
   "source": [
    "import pandas as pd\n",
    "import numpy as np\n",
    "import matplotlib.pyplot as plt\n",
    "import seaborn as sns\n",
    "\n",
    "from sklearn.model_selection import train_test_split\n",
    "from sklearn.metrics import classification_report, confusion_matrix\n",
    "\n",
    "import shap\n",
    "import xgboost as xgb\n",
    "import lightgbm as lgb\n",
    "import warnings\n",
    "warnings.filterwarnings('ignore')"
   ]
  },
  {
   "cell_type": "code",
   "execution_count": null,
   "id": "cbbda52e",
   "metadata": {},
   "outputs": [],
   "source": [
    "df = pd.read_csv(\"HR-Employee-Attrition.csv\")\n",
    "df.drop(columns=['EmployeeNumber', 'EmployeeCount', 'Over18', 'StandardHours'], inplace=True)\n",
    "df['Attrition'] = df['Attrition'].map({'Yes': 1, 'No': 0})\n",
    "df_encoded = pd.get_dummies(df, drop_first=True)\n",
    "X = df_encoded.drop('Attrition', axis=1)\n",
    "y = df_encoded['Attrition']\n",
    "X_train, X_test, y_train, y_test = train_test_split(X, y, test_size=0.2, random_state=42)"
   ]
  },
  {
   "cell_type": "code",
   "execution_count": null,
   "id": "5933d2ed",
   "metadata": {},
   "outputs": [],
   "source": [
    "# XGBoost\n",
    "xgb_model = xgb.XGBClassifier(eval_metric='logloss', use_label_encoder=False)\n",
    "xgb_model.fit(X_train, y_train)\n",
    "\n",
    "# LightGBM\n",
    "lgb_model = lgb.LGBMClassifier()\n",
    "lgb_model.fit(X_train, y_train)"
   ]
  },
  {
   "cell_type": "code",
   "execution_count": null,
   "id": "a6cb4002",
   "metadata": {},
   "outputs": [],
   "source": [
    "print(\"XGBoost Performance:\")\n",
    "print(classification_report(y_test, xgb_model.predict(X_test)))\n",
    "\n",
    "print(\"LightGBM Performance:\")\n",
    "print(classification_report(y_test, lgb_model.predict(X_test)))"
   ]
  },
  {
   "cell_type": "code",
   "execution_count": null,
   "id": "7910321a",
   "metadata": {},
   "outputs": [],
   "source": [
    "explainer = shap.Explainer(xgb_model)\n",
    "shap_values = explainer(X_test)\n",
    "shap.summary_plot(shap_values, X_test)"
   ]
  },
  {
   "cell_type": "markdown",
   "id": "29930aec",
   "metadata": {},
   "source": [
    "## 🚀 Step 6: Deployment Suggestions\n",
    "### Option 1: Streamlit (Recommended for quick dashboards)\n",
    "```python\n",
    "import streamlit as st\n",
    "import pandas as pd\n",
    "import joblib\n",
    "\n",
    "model = joblib.load(\"xgb_model.pkl\")\n",
    "st.title(\"Employee Attrition Predictor\")\n",
    "age = st.slider(\"Age\", 18, 60)\n",
    "# ... (collect other inputs)\n",
    "input_df = pd.DataFrame([[age, ...]], columns=[...])\n",
    "prediction = model.predict(input_df)\n",
    "st.write(\"Prediction:\", \"Leaving\" if prediction[0] == 1 else \"Staying\")\n",
    "```\n",
    "Run with:\n",
    "```\n",
    "streamlit run app.py\n",
    "```\n",
    "\n",
    "### Option 2: Flask API for Integration\n",
    "- Wrap model into an API with Flask\n",
    "- Deploy using Heroku or AWS Lambda for production"
   ]
  }
 ],
 "metadata": {
  "kernelspec": {
   "display_name": "Python 3",
   "language": "python",
   "name": "python3"
  },
  "language_info": {
   "name": "python",
   "version": "3.10"
  }
 },
 "nbformat": 4,
 "nbformat_minor": 5
}
